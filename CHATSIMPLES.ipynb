{
  "nbformat": 4,
  "nbformat_minor": 0,
  "metadata": {
    "colab": {
      "provenance": [],
      "authorship_tag": "ABX9TyOsv+/I0UCr9mi6071daePh",
      "include_colab_link": true
    },
    "kernelspec": {
      "name": "python3",
      "display_name": "Python 3"
    },
    "language_info": {
      "name": "python"
    }
  },
  "cells": [
    {
      "cell_type": "markdown",
      "metadata": {
        "id": "view-in-github",
        "colab_type": "text"
      },
      "source": [
        "<a href=\"https://colab.research.google.com/github/ciceroduarte01/alura-ai/blob/main/CHATSIMPLES.ipynb\" target=\"_parent\"><img src=\"https://colab.research.google.com/assets/colab-badge.svg\" alt=\"Open In Colab\"/></a>"
      ]
    },
    {
      "cell_type": "markdown",
      "source": [
        "lntalando o SDK do Google"
      ],
      "metadata": {
        "id": "7tbECwLbu-03"
      }
    },
    {
      "cell_type": "code",
      "source": [
        "!pip install -q -U google-generativeai"
      ],
      "metadata": {
        "id": "YK-ZGBd9ud2o"
      },
      "execution_count": 6,
      "outputs": []
    },
    {
      "cell_type": "markdown",
      "source": [
        "Configurando a Api_Key"
      ],
      "metadata": {
        "id": "9AN0gK0iwL51"
      }
    },
    {
      "cell_type": "code",
      "source": [
        "# modelo 1\n",
        "\n",
        "import google.generativeai as genai\n",
        "\n",
        "from google.colab import userdata\n",
        "api_key = userdata.get('SECRET_KEY')\n",
        "\n",
        "genai.configure(api_key = api_key)"
      ],
      "metadata": {
        "id": "N3CHG1qONHxG"
      },
      "execution_count": 7,
      "outputs": []
    },
    {
      "cell_type": "code",
      "source": [
        "for m in genai.list_models():\n",
        "  if 'generateContent' in m.supported_generation_methods:\n",
        "    print(m.name)\n"
      ],
      "metadata": {
        "colab": {
          "base_uri": "https://localhost:8080/",
          "height": 139
        },
        "id": "6fZYUFBHw0AM",
        "outputId": "deb2bc95-520c-42e1-c029-32fd173b2c8d"
      },
      "execution_count": 10,
      "outputs": [
        {
          "output_type": "stream",
          "name": "stdout",
          "text": [
            "models/gemini-1.0-pro\n",
            "models/gemini-1.0-pro-001\n",
            "models/gemini-1.0-pro-latest\n",
            "models/gemini-1.0-pro-vision-latest\n",
            "models/gemini-1.5-pro-latest\n",
            "models/gemini-pro\n",
            "models/gemini-pro-vision\n"
          ]
        }
      ]
    },
    {
      "cell_type": "markdown",
      "source": [
        "Configurando o Modelo"
      ],
      "metadata": {
        "id": "rc7_JOFzv0k-"
      }
    },
    {
      "cell_type": "code",
      "source": [
        "# Set up the model\n",
        "generation_config = {\n",
        "    \"temperature\": 0.5,\n",
        "    \"top_p\": 0.95,\n",
        "    \"max_output_tokens\":1000,\n",
        "}\n"
      ],
      "metadata": {
        "id": "7-CqBWyTvu2K"
      },
      "execution_count": 8,
      "outputs": []
    },
    {
      "cell_type": "markdown",
      "source": [
        "Configurando Segurança"
      ],
      "metadata": {
        "id": "-GI24Pc5v7R9"
      }
    },
    {
      "cell_type": "code",
      "source": [
        "safety_settings = [\n",
        "    {\n",
        "    \"category\": \"HARM_CATEGORY_HARASSMENT\",\n",
        "    \"threshold\": \"BLOCK_MEDIUM_AND_ABOVE\",\n",
        "    \"SEXUAL\": \"BLOCK_NONE\",\n",
        "    \"DANGEROUS\": \"BLOCK_NONE\"\n",
        "}]"
      ],
      "metadata": {
        "id": "KrzMJeSPwBam"
      },
      "execution_count": 12,
      "outputs": []
    },
    {
      "cell_type": "markdown",
      "source": [
        "Inicializando O Modelo"
      ],
      "metadata": {
        "id": "rlA1qIgetci4"
      }
    },
    {
      "cell_type": "code",
      "source": [
        "model = genai.GenerativeModel(model_name=\"gemini-1.0-pro\",\n",
        "                              generation_config=generation_config, safety_settings=safety_settings)"
      ],
      "metadata": {
        "id": "W0UMUyu3t4Jp"
      },
      "execution_count": 15,
      "outputs": []
    },
    {
      "cell_type": "code",
      "source": [
        "response = model.generate_content (\"Vamos Aprender conteúdo sobre IA. Me dê sugestões.\")\n",
        "print(response.text)"
      ],
      "metadata": {
        "colab": {
          "base_uri": "https://localhost:8080/",
          "height": 749
        },
        "id": "VQf_uRUMy3Za",
        "outputId": "eadddf25-0b8d-4f9b-8cb4-a80873ba9e76"
      },
      "execution_count": 16,
      "outputs": [
        {
          "output_type": "stream",
          "name": "stdout",
          "text": [
            "**Conceitos Fundamentais**\n",
            "\n",
            "* O que é Inteligência Artificial (IA)?\n",
            "* Tipos de IA: Fraca, Forte e Super\n",
            "* Aprendizado de Máquina (ML), Aprendizado Profundo (DL) e Aprendizado por Reforço (RL)\n",
            "* Redes Neurais e Processamento de Linguagem Natural (PNL)\n",
            "\n",
            "**Aplicações da IA**\n",
            "\n",
            "* Automação de tarefas\n",
            "* Análise preditiva\n",
            "* Reconhecimento de imagem e fala\n",
            "* Veículos autônomos\n",
            "* Assistentes virtuais e chatbots\n",
            "\n",
            "**Ética e Implicações da IA**\n",
            "\n",
            "* Viés e discriminação em algoritmos de IA\n",
            "* Perda de empregos e automação\n",
            "* Privacidade e vigilância\n",
            "* Regulamentação e políticas éticas\n",
            "\n",
            "**Recursos para Aprender IA**\n",
            "\n",
            "* **Cursos online:** Coursera, edX, Udemy\n",
            "* **Livros:** \"Inteligência Artificial: Uma Abordagem Moderna\" por Stuart Russell e Peter Norvig, \"Aprendizado de Máquina\" por Tom Mitchell\n",
            "* **Artigos e blogs:** MIT Technology Review, The Verge, Towards Data Science\n",
            "* **Comunidades online:** Reddit (r/artificial), Stack Overflow (tag: ia)\n",
            "\n",
            "**Ferramentas e Bibliotecas**\n",
            "\n",
            "* Python (com bibliotecas como scikit-learn, TensorFlow, Keras)\n",
            "* R (com bibliotecas como caret, mlr)\n",
            "* Ferramentas de visualização de dados (por exemplo, Tableau, Power BI)\n",
            "\n",
            "**Tendências e Pesquisas Emergentes**\n",
            "\n",
            "* IA Generativa (por exemplo, GPT-3, DALL-E 2)\n",
            "* IA Quântica\n",
            "* IA Explicável e Interpretável\n",
            "* IA para o Bem Social\n"
          ]
        }
      ]
    },
    {
      "cell_type": "code",
      "source": [
        "chat = model.start_chat(history=[])"
      ],
      "metadata": {
        "id": "8_X71u760b5c"
      },
      "execution_count": 17,
      "outputs": []
    },
    {
      "cell_type": "code",
      "source": [
        "prompt = input(\"Esperando Prompt:   \")\n",
        "\n",
        "while prompt !=\"fim\":\n",
        "  response = chat.send_message(prompt)\n",
        "  print( \"Resposta: \", response.text, \"\\n\")\n",
        "  prompt = input(\"Esperando Prompt:   \")"
      ],
      "metadata": {
        "colab": {
          "base_uri": "https://localhost:8080/",
          "height": 211
        },
        "id": "Og67yPKU050M",
        "outputId": "b3b952b1-6f18-4638-e47f-b8bd490ce562"
      },
      "execution_count": 19,
      "outputs": [
        {
          "name": "stdout",
          "output_type": "stream",
          "text": [
            "Esperando Prompt:   quantos pronunciamentos contabeis forma emitidos pelo comite de pronunciamentos contabeis do BRasil\n",
            "Resposta:  48 \n",
            "\n",
            "Esperando Prompt:   resuma o cpc25 em 5 linhas\n",
            "Resposta:  O CPC 25, \"Demonstrações Contábeis Consolidadas\", estabelece os requisitos para a elaboração de demonstrações contábeis consolidadas por entidades que controlam uma ou mais outras entidades. O objetivo é fornecer informações financeiras sobre o grupo econômico como um todo, eliminando os efeitos das transações e saldos entre as entidades do grupo. O CPC 25 aborda tópicos como controle, participação no capital, consolidação proporcional e demonstrações combinadas. Ele também fornece orientação sobre a divulgação de informações sobre relacionamentos entre partes relacionadas e transações entre partes relacionadas. \n",
            "\n",
            "Esperando Prompt:   resuma o cpc 26 em 5 linhas\n",
            "Resposta:  O CPC 26, \"Investimentos em Coligadas e Controladas\", estabelece os requisitos para o reconhecimento, mensuração e divulgação de investimentos em coligadas e controladas. O objetivo é fornecer informações financeiras sobre os investimentos da entidade em outras entidades, refletindo sua participação no patrimônio líquido e nos resultados dessas entidades. O CPC 26 aborda tópicos como controle significativo, influência significativa, equivalência patrimonial e método do custo. Ele também fornece orientação sobre a divulgação de informações sobre relacionamentos entre partes relacionadas e transações entre partes relacionadas. \n",
            "\n",
            "Esperando Prompt:   fim\n"
          ]
        }
      ]
    },
    {
      "cell_type": "code",
      "source": [
        "chat"
      ],
      "metadata": {
        "colab": {
          "base_uri": "https://localhost:8080/"
        },
        "id": "ZqT3ZXCT6Rt_",
        "outputId": "1228e5b4-4bd6-40cc-c440-db1f5db33dc2"
      },
      "execution_count": 21,
      "outputs": [
        {
          "output_type": "execute_result",
          "data": {
            "text/plain": [
              "ChatSession(\n",
              "    model=genai.GenerativeModel(\n",
              "        model_name='models/gemini-1.0-pro',\n",
              "        generation_config={'temperature': 0.5, 'top_p': 0.95, 'max_output_tokens': 1000},\n",
              "        safety_settings={<HarmCategory.HARM_CATEGORY_HARASSMENT: 7>: <HarmBlockThreshold.BLOCK_MEDIUM_AND_ABOVE: 2>},\n",
              "        tools=None,\n",
              "        system_instruction=None,\n",
              "    ),\n",
              "    history=[glm.Content({'parts': [{'text': 'quantos pron...eis do BRasil'}], 'role': 'user'}), glm.Content({'parts': [{'text': '48'}], 'role': 'model'}), glm.Content({'parts': [{'text': 'resuma o cpc25 em 5 linhas'}], 'role': 'user'}), glm.Content({'parts': [{'text': 'O CPC 25, \"D...relacionadas.'}], 'role': 'model'}), glm.Content({'parts': [{'text': 'resuma o cpc 26 em 5 linhas'}], 'role': 'user'}), glm.Content({'parts': [{'text': 'O CPC 26, \"I...relacionadas.'}], 'role': 'model'})]\n",
              ")"
            ]
          },
          "metadata": {},
          "execution_count": 21
        }
      ]
    },
    {
      "cell_type": "code",
      "source": [
        "chat.history"
      ],
      "metadata": {
        "colab": {
          "base_uri": "https://localhost:8080/"
        },
        "id": "gqMd16DV6XjG",
        "outputId": "e1f74f11-789b-41da-eb52-ed265b403b85"
      },
      "execution_count": 26,
      "outputs": [
        {
          "output_type": "execute_result",
          "data": {
            "text/plain": [
              "[parts {\n",
              "   text: \"quantos pronunciamentos contabeis forma emitidos pelo comite de pronunciamentos contabeis do BRasil\"\n",
              " }\n",
              " role: \"user\",\n",
              " parts {\n",
              "   text: \"48\"\n",
              " }\n",
              " role: \"model\",\n",
              " parts {\n",
              "   text: \"resuma o cpc25 em 5 linhas\"\n",
              " }\n",
              " role: \"user\",\n",
              " parts {\n",
              "   text: \"O CPC 25, \\\"Demonstra\\303\\247\\303\\265es Cont\\303\\241beis Consolidadas\\\", estabelece os requisitos para a elabora\\303\\247\\303\\243o de demonstra\\303\\247\\303\\265es cont\\303\\241beis consolidadas por entidades que controlam uma ou mais outras entidades. O objetivo \\303\\251 fornecer informa\\303\\247\\303\\265es financeiras sobre o grupo econ\\303\\264mico como um todo, eliminando os efeitos das transa\\303\\247\\303\\265es e saldos entre as entidades do grupo. O CPC 25 aborda t\\303\\263picos como controle, participa\\303\\247\\303\\243o no capital, consolida\\303\\247\\303\\243o proporcional e demonstra\\303\\247\\303\\265es combinadas. Ele tamb\\303\\251m fornece orienta\\303\\247\\303\\243o sobre a divulga\\303\\247\\303\\243o de informa\\303\\247\\303\\265es sobre relacionamentos entre partes relacionadas e transa\\303\\247\\303\\265es entre partes relacionadas.\"\n",
              " }\n",
              " role: \"model\",\n",
              " parts {\n",
              "   text: \"resuma o cpc 26 em 5 linhas\"\n",
              " }\n",
              " role: \"user\",\n",
              " parts {\n",
              "   text: \"O CPC 26, \\\"Investimentos em Coligadas e Controladas\\\", estabelece os requisitos para o reconhecimento, mensura\\303\\247\\303\\243o e divulga\\303\\247\\303\\243o de investimentos em coligadas e controladas. O objetivo \\303\\251 fornecer informa\\303\\247\\303\\265es financeiras sobre os investimentos da entidade em outras entidades, refletindo sua participa\\303\\247\\303\\243o no patrim\\303\\264nio l\\303\\255quido e nos resultados dessas entidades. O CPC 26 aborda t\\303\\263picos como controle significativo, influ\\303\\252ncia significativa, equival\\303\\252ncia patrimonial e m\\303\\251todo do custo. Ele tamb\\303\\251m fornece orienta\\303\\247\\303\\243o sobre a divulga\\303\\247\\303\\243o de informa\\303\\247\\303\\265es sobre relacionamentos entre partes relacionadas e transa\\303\\247\\303\\265es entre partes relacionadas.\"\n",
              " }\n",
              " role: \"model\"]"
            ]
          },
          "metadata": {},
          "execution_count": 26
        }
      ]
    },
    {
      "cell_type": "markdown",
      "source": [
        "Melhorando a visualização do chat.history"
      ],
      "metadata": {
        "id": "TOl36Oiu3qnG"
      }
    },
    {
      "cell_type": "code",
      "source": [
        "import textwrap\n",
        "from IPython.display import display\n",
        "from IPython.display import Markdown\n",
        "\n",
        "def to_markdown(text):\n",
        "  text = text.replace('*', '   *')\n",
        "  return Markdown(textwrap.indent(text, '> ', predicate=lambda _: True))\n",
        "\n",
        "# Imprimindo o histórico\n",
        "for message in chat.history:\n",
        "  display(to_markdown(f'**{message.role}**: {message.parts[0].text}'))\n",
        "  print('---------------------------------------------------')\n",
        "\n",
        "\n"
      ],
      "metadata": {
        "colab": {
          "base_uri": "https://localhost:8080/",
          "height": 688
        },
        "id": "sDqBcgJU3vWb",
        "outputId": "015faa4b-b5e6-4536-e66b-8a02c261da0e"
      },
      "execution_count": 37,
      "outputs": [
        {
          "output_type": "display_data",
          "data": {
            "text/plain": [
              "<IPython.core.display.Markdown object>"
            ],
            "text/markdown": ">    *   *user   *   *: quantos pronunciamentos contabeis forma emitidos pelo comite de pronunciamentos contabeis do BRasil"
          },
          "metadata": {}
        },
        {
          "output_type": "stream",
          "name": "stdout",
          "text": [
            "---------------------------------------------------\n"
          ]
        },
        {
          "output_type": "display_data",
          "data": {
            "text/plain": [
              "<IPython.core.display.Markdown object>"
            ],
            "text/markdown": ">    *   *model   *   *: 48"
          },
          "metadata": {}
        },
        {
          "output_type": "stream",
          "name": "stdout",
          "text": [
            "---------------------------------------------------\n"
          ]
        },
        {
          "output_type": "display_data",
          "data": {
            "text/plain": [
              "<IPython.core.display.Markdown object>"
            ],
            "text/markdown": ">    *   *user   *   *: resuma o cpc25 em 5 linhas"
          },
          "metadata": {}
        },
        {
          "output_type": "stream",
          "name": "stdout",
          "text": [
            "---------------------------------------------------\n"
          ]
        },
        {
          "output_type": "display_data",
          "data": {
            "text/plain": [
              "<IPython.core.display.Markdown object>"
            ],
            "text/markdown": ">    *   *model   *   *: O CPC 25, \"Demonstrações Contábeis Consolidadas\", estabelece os requisitos para a elaboração de demonstrações contábeis consolidadas por entidades que controlam uma ou mais outras entidades. O objetivo é fornecer informações financeiras sobre o grupo econômico como um todo, eliminando os efeitos das transações e saldos entre as entidades do grupo. O CPC 25 aborda tópicos como controle, participação no capital, consolidação proporcional e demonstrações combinadas. Ele também fornece orientação sobre a divulgação de informações sobre relacionamentos entre partes relacionadas e transações entre partes relacionadas."
          },
          "metadata": {}
        },
        {
          "output_type": "stream",
          "name": "stdout",
          "text": [
            "---------------------------------------------------\n"
          ]
        },
        {
          "output_type": "display_data",
          "data": {
            "text/plain": [
              "<IPython.core.display.Markdown object>"
            ],
            "text/markdown": ">    *   *user   *   *: resuma o cpc 26 em 5 linhas"
          },
          "metadata": {}
        },
        {
          "output_type": "stream",
          "name": "stdout",
          "text": [
            "---------------------------------------------------\n"
          ]
        },
        {
          "output_type": "display_data",
          "data": {
            "text/plain": [
              "<IPython.core.display.Markdown object>"
            ],
            "text/markdown": ">    *   *model   *   *: O CPC 26, \"Investimentos em Coligadas e Controladas\", estabelece os requisitos para o reconhecimento, mensuração e divulgação de investimentos em coligadas e controladas. O objetivo é fornecer informações financeiras sobre os investimentos da entidade em outras entidades, refletindo sua participação no patrimônio líquido e nos resultados dessas entidades. O CPC 26 aborda tópicos como controle significativo, influência significativa, equivalência patrimonial e método do custo. Ele também fornece orientação sobre a divulgação de informações sobre relacionamentos entre partes relacionadas e transações entre partes relacionadas."
          },
          "metadata": {}
        },
        {
          "output_type": "stream",
          "name": "stdout",
          "text": [
            "---------------------------------------------------\n"
          ]
        }
      ]
    }
  ]
}